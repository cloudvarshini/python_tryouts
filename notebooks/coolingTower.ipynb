{
 "cells": [
  {
   "cell_type": "markdown",
   "metadata": {},
   "source": [
    "# Cooling Tower\n",
    "\n",
    "Name : Megavarshini <br/>\n",
    "Roll No : 20CHR039"
   ]
  },
  {
   "cell_type": "code",
   "execution_count": 17,
   "metadata": {
    "colab": {
     "base_uri": "https://localhost:8080/",
     "height": 0
    },
    "id": "XxltNLJeIiD0",
    "outputId": "f14d2436-0f94-4287-e301-ff38d45a350a"
   },
   "outputs": [
    {
     "name": "stdout",
     "output_type": "stream",
     "text": [
      "Enter h1 in cm : 11.1\n",
      "Enter h2 in cm : 4.9\n",
      "Enter dry bulb inlet temperature (T1) : 26.7\n",
      "Enter wet bulb inlet temperature (T2) : 25.1\n",
      "Enter dry bulb outlet temperature (T3) : 32.9\n",
      "Enter wet bulb inlet temperature (T4) : 30.1\n",
      "Enter inlet water temperature (T5) : 34.8\n",
      "Enter outlet water temperature (T6) : 30.9\n",
      "Enter flow rate of water in LPH : 6300\n",
      "Enter density of water : 1000\n",
      "Enter density of air : 1.21\n",
      "Enter coefficient of discharge : 0.64\n",
      "Enter area of orifice(a1) : 0.00053\n",
      "Enter area of orifice(a2) : 0.00212\n",
      "Enter acceleration due to gravity : 9.81\n"
     ]
    }
   ],
   "source": [
    "h1 = float(input(\"Enter h1 in cm : \"))\n",
    "h2 = float(input(\"Enter h2 in cm : \"))\n",
    "T1 = float(input(\"Enter dry bulb inlet temperature (T1) : \"))\n",
    "T2 = float(input(\"Enter wet bulb inlet temperature (T2) : \"))\n",
    "T3 = float(input(\"Enter dry bulb outlet temperature (T3) : \"))\n",
    "T4 = float(input(\"Enter wet bulb inlet temperature (T4) : \"))\n",
    "T5 = float(input(\"Enter inlet water temperature (T5) : \"))\n",
    "T6 = float(input(\"Enter outlet water temperature (T6) : \"))\n",
    "Fw = float(input(\"Enter flow rate of water in LPH : \"))\n",
    "den_water = float(input(\"Enter density of water : \"))\n",
    "den_air = float(input(\"Enter density of air : \"))\n",
    "cd = float(input(\"Enter coefficient of discharge : \"))\n",
    "a1 = float(input(\"Enter area of orifice(a1) : \"))\n",
    "a2 = float(input(\"Enter area of orifice(a2) : \"))\n",
    "g = float(input(\"Enter acceleration due to gravity : \"))"
   ]
  },
  {
   "cell_type": "code",
   "execution_count": 18,
   "metadata": {
    "id": "mBjVbGP8RCE_"
   },
   "outputs": [
    {
     "name": "stdout",
     "output_type": "stream",
     "text": [
      "Range = 3.9\n"
     ]
    }
   ],
   "source": [
    "Range = T5-T6\n",
    "print(\"Range =\",round(Range,3))"
   ]
  },
  {
   "cell_type": "code",
   "execution_count": 19,
   "metadata": {
    "colab": {
     "base_uri": "https://localhost:8080/",
     "height": 0
    },
    "id": "pz0dI5XJJkJn",
    "outputId": "aa1c7d3f-e814-41a7-fe21-874e65186a4a"
   },
   "outputs": [
    {
     "name": "stdout",
     "output_type": "stream",
     "text": [
      "Approach = 5.8\n"
     ]
    }
   ],
   "source": [
    "approach = T6-T2\n",
    "print(\"Approach =\",round(approach,3))"
   ]
  },
  {
   "cell_type": "code",
   "execution_count": 20,
   "metadata": {
    "colab": {
     "base_uri": "https://localhost:8080/",
     "height": 0
    },
    "id": "154FiLUPIqY-",
    "outputId": "6a2d1373-b5b8-4dae-a02e-94e1de2469d5"
   },
   "outputs": [
    {
     "name": "stdout",
     "output_type": "stream",
     "text": [
      "Effectiveness = 40.206\n"
     ]
    }
   ],
   "source": [
    "effectiveness = (Range/(Range+approach))*100\n",
    "print(\"Effectiveness =\",round(effectiveness,3))"
   ]
  },
  {
   "cell_type": "code",
   "execution_count": 21,
   "metadata": {
    "colab": {
     "base_uri": "https://localhost:8080/",
     "height": 0
    },
    "id": "_7j4_sRUJ-4-",
    "outputId": "2da975fd-0d16-4530-b1d2-efed11e59a0d"
   },
   "outputs": [
    {
     "name": "stdout",
     "output_type": "stream",
     "text": [
      "Head in terms of air = 51.178\n"
     ]
    }
   ],
   "source": [
    "\n",
    "H = ((h1-h2)/100)*((den_water/den_air)-1)\n",
    "print(\"Head in terms of air =\",round(H,3))"
   ]
  },
  {
   "cell_type": "code",
   "execution_count": 22,
   "metadata": {
    "id": "2BC2s6ZSNAFq"
   },
   "outputs": [
    {
     "name": "stdout",
     "output_type": "stream",
     "text": [
      "Flow rate of air in m3/sec (Qa) = 0.011\n"
     ]
    }
   ],
   "source": [
    "Qa = cd*((a1*a2)/((a2**2)-(a1**2))**(1/2))*((2*g*H)**(1/2))\n",
    "print(\"Flow rate of air in m3/sec (Qa) =\",round(Qa,3))"
   ]
  },
  {
   "cell_type": "code",
   "execution_count": 23,
   "metadata": {
    "id": "C5yIKHBFKLHB"
   },
   "outputs": [
    {
     "name": "stdout",
     "output_type": "stream",
     "text": [
      "Flow rate of air in m3/hr (G) = 39.963\n"
     ]
    }
   ],
   "source": [
    "G = Qa*3600\n",
    "print(\"Flow rate of air in m3/hr (G) =\",round(G,3))\n"
   ]
  },
  {
   "cell_type": "code",
   "execution_count": 24,
   "metadata": {
    "id": "FDZtcODdQtaQ"
   },
   "outputs": [
    {
     "name": "stdout",
     "output_type": "stream",
     "text": [
      "Flow rate of water (L) = 6.3\n"
     ]
    }
   ],
   "source": [
    "L = Fw/1000\n",
    "print(\"Flow rate of water (L) =\",round(L,3))"
   ]
  },
  {
   "cell_type": "code",
   "execution_count": 25,
   "metadata": {
    "id": "Hdge9ru0Qu-4"
   },
   "outputs": [
    {
     "name": "stdout",
     "output_type": "stream",
     "text": [
      "L/G ratio = 0.158\n"
     ]
    }
   ],
   "source": [
    "L_G = L/G\n",
    "print(\"L/G ratio =\",round(L_G,3))"
   ]
  },
  {
   "cell_type": "code",
   "execution_count": 26,
   "metadata": {
    "id": "VYOtr-bSQzaC"
   },
   "outputs": [
    {
     "name": "stdout",
     "output_type": "stream",
     "text": [
      "Evaporation loss (El) = 0.038\n"
     ]
    }
   ],
   "source": [
    "El = 0.00085*1.8*L*Range\n",
    "print(\"Evaporation loss (El) =\",round(El,3))"
   ]
  },
  {
   "cell_type": "code",
   "execution_count": 27,
   "metadata": {
    "id": "eZFAub2dNZs3"
   },
   "outputs": [
    {
     "name": "stdout",
     "output_type": "stream",
     "text": [
      "Percentage vaporation loss = 0.597\n"
     ]
    }
   ],
   "source": [
    "percent_El = (El)/(L)*100\n",
    "print(\"Percentage vaporation loss =\",round(percent_El,3))"
   ]
  },
  {
   "cell_type": "code",
   "execution_count": 28,
   "metadata": {
    "id": "skB54OobPQdg"
   },
   "outputs": [
    {
     "name": "stdout",
     "output_type": "stream",
     "text": [
      "Blow down losses = 0.008\n"
     ]
    }
   ],
   "source": [
    "Bd = 0.2*El\n",
    "print(\"Blow down losses =\",round(Bd,3))"
   ]
  },
  {
   "cell_type": "code",
   "execution_count": 29,
   "metadata": {
    "id": "tEtStvbQPiSk"
   },
   "outputs": [
    {
     "name": "stdout",
     "output_type": "stream",
     "text": [
      "Drift losses = 0.013\n"
     ]
    }
   ],
   "source": [
    "Dl = 0.002*L\n",
    "print(\"Drift losses =\",round(Dl,3))"
   ]
  },
  {
   "cell_type": "code",
   "execution_count": 30,
   "metadata": {
    "id": "muAAc7v4Ptte"
   },
   "outputs": [
    {
     "name": "stdout",
     "output_type": "stream",
     "text": [
      "Makeup water requirement = 0.058\n"
     ]
    }
   ],
   "source": [
    "M = El+Bd+Dl\n",
    "print(\"Makeup water requirement =\",round(M,3))"
   ]
  }
 ],
 "metadata": {
  "colab": {
   "provenance": []
  },
  "kernelspec": {
   "display_name": "Python 3 (ipykernel)",
   "language": "python",
   "name": "python3"
  },
  "language_info": {
   "codemirror_mode": {
    "name": "ipython",
    "version": 3
   },
   "file_extension": ".py",
   "mimetype": "text/x-python",
   "name": "python",
   "nbconvert_exporter": "python",
   "pygments_lexer": "ipython3",
   "version": "3.10.6"
  }
 },
 "nbformat": 4,
 "nbformat_minor": 1
}
