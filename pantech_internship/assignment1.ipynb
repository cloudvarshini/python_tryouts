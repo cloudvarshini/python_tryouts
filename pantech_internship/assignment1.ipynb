{
 "cells": [
  {
   "cell_type": "markdown",
   "id": "b159f710",
   "metadata": {},
   "source": [
    "## Program to convert Roman numericals into integer"
   ]
  },
  {
   "cell_type": "code",
   "execution_count": 4,
   "id": "db37a3ee",
   "metadata": {},
   "outputs": [],
   "source": [
    "def roman_to_int(roman_val):\n",
    "    roman_dict = {'I': 1, 'V': 5, 'X': 10, 'L': 50, 'C': 100, 'D': 500, 'M': 1000}\n",
    "    prev_val = 0\n",
    "    result = 0\n",
    "    for i in range(len(roman_val)-1, -1, -1):\n",
    "        curr_val = roman_dict[roman_val[i]]\n",
    "        if curr_val < prev_val:\n",
    "            result -= curr_val\n",
    "        else:\n",
    "            result += curr_val\n",
    "        prev_val = curr_val\n",
    "    return result"
   ]
  },
  {
   "cell_type": "code",
   "execution_count": 2,
   "id": "aa3dfb1c",
   "metadata": {},
   "outputs": [
    {
     "name": "stdout",
     "output_type": "stream",
     "text": [
      "Enter Roman value : MMMDCCXXIV\n"
     ]
    }
   ],
   "source": [
    "roman_val = input(\"Enter Roman value : \")"
   ]
  },
  {
   "cell_type": "code",
   "execution_count": 5,
   "id": "de678fd1",
   "metadata": {},
   "outputs": [
    {
     "name": "stdout",
     "output_type": "stream",
     "text": [
      "MMMDCCXXIV  :  3724\n"
     ]
    }
   ],
   "source": [
    "print(roman_val,\" : \",roman_to_int(roman_val))"
   ]
  },
  {
   "cell_type": "code",
   "execution_count": null,
   "id": "04359c2e",
   "metadata": {},
   "outputs": [],
   "source": []
  }
 ],
 "metadata": {
  "kernelspec": {
   "display_name": "Python 3 (ipykernel)",
   "language": "python",
   "name": "python3"
  },
  "language_info": {
   "codemirror_mode": {
    "name": "ipython",
    "version": 3
   },
   "file_extension": ".py",
   "mimetype": "text/x-python",
   "name": "python",
   "nbconvert_exporter": "python",
   "pygments_lexer": "ipython3",
   "version": "3.10.6"
  }
 },
 "nbformat": 4,
 "nbformat_minor": 5
}
